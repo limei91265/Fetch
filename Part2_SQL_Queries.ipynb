{
 "cells": [
  {
   "cell_type": "code",
   "execution_count": 1,
   "id": "24b3cb1f-2470-4458-bf50-1c0eaab0bd5a",
   "metadata": {
    "tags": []
   },
   "outputs": [],
   "source": [
    "# Import libraries for analysis\n",
    "import pandas as pd\n",
    "import sqlite3\n",
    "import matplotlib.pyplot as plt\n",
    "import seaborn as sns"
   ]
  },
  {
   "cell_type": "code",
   "execution_count": 2,
   "id": "3dbc5342-8d10-4214-bd9f-84c59db26e68",
   "metadata": {
    "tags": []
   },
   "outputs": [
    {
     "data": {
      "text/plain": [
       "100000"
      ]
     },
     "execution_count": 2,
     "metadata": {},
     "output_type": "execute_result"
    }
   ],
   "source": [
    "# Reload datasets\n",
    "products_df = pd.read_csv('/home/workspace/test/PRODUCTS.csv')\n",
    "transactions_df = pd.read_csv(\"/home/workspace/test/TRANSACTION.csv\")\n",
    "users_df = pd.read_csv(\"/home/workspace/test/USER.csv\")\n",
    "\n",
    "# Standardize column names for SQLite compatibility\n",
    "products_df.columns = [col.upper() for col in products_df.columns]\n",
    "transactions_df.columns = [col.upper() for col in transactions_df.columns]\n",
    "users_df.columns = [col.upper() for col in users_df.columns]\n",
    "\n",
    "# Convert birth dates to datetime format\n",
    "users_df[\"BIRTH_DATE\"] = pd.to_datetime(users_df[\"BIRTH_DATE\"], errors=\"coerce\")\n",
    "\n",
    "# Create an in-memory SQLite database\n",
    "conn = sqlite3.connect(\":memory:\")\n",
    "cursor = conn.cursor()\n",
    "\n",
    "# Load data into SQLite\n",
    "products_df.to_sql(\"products\", conn, index=False, if_exists=\"replace\")\n",
    "transactions_df.to_sql(\"transactions\", conn, index=False, if_exists=\"replace\")\n",
    "users_df.to_sql(\"users\", conn, index=False, if_exists=\"replace\")\n"
   ]
  },
  {
   "cell_type": "markdown",
   "id": "aea469c0-1b5e-4a64-80f9-0174f0430811",
   "metadata": {},
   "source": [
    "## Closed-ended questions: "
   ]
  },
  {
   "cell_type": "markdown",
   "id": "2ca16e3d-a870-499a-a26b-2ef165187203",
   "metadata": {},
   "source": [
    "### What are top 5 brands by receipts scanned among users 21 and over?"
   ]
  },
  {
   "cell_type": "markdown",
   "id": "14c6e2a6-658a-4644-92e5-c63077243ffe",
   "metadata": {},
   "source": [
    "The top five brands are Nerds Candy, Dove, None, Trident and Sour Patch Kids. There is a high number of 'None' in BRAND column because BRAND can't be pulled from the Products table with missing BARCODEs in the Transaction table (~ 12% of transactions)"
   ]
  },
  {
   "cell_type": "markdown",
   "id": "092f4b84-a251-4e45-a64c-cd321ddc85d7",
   "metadata": {},
   "source": [
    "Assumptions made for analysis:\n",
    "- A user's age is determined using the BIRTH_DATE column in USER file.\n",
    "- 'Receipts scanned' is defined as the count of unique RECEIPT_ID per brand."
   ]
  },
  {
   "cell_type": "code",
   "execution_count": 3,
   "id": "379d9e9b-360d-49f9-9b54-25a28601a327",
   "metadata": {
    "tags": []
   },
   "outputs": [
    {
     "data": {
      "text/html": [
       "<div>\n",
       "<style scoped>\n",
       "    .dataframe tbody tr th:only-of-type {\n",
       "        vertical-align: middle;\n",
       "    }\n",
       "\n",
       "    .dataframe tbody tr th {\n",
       "        vertical-align: top;\n",
       "    }\n",
       "\n",
       "    .dataframe thead th {\n",
       "        text-align: right;\n",
       "    }\n",
       "</style>\n",
       "<table border=\"1\" class=\"dataframe\">\n",
       "  <thead>\n",
       "    <tr style=\"text-align: right;\">\n",
       "      <th></th>\n",
       "      <th>BRAND</th>\n",
       "      <th>total_receipts</th>\n",
       "    </tr>\n",
       "  </thead>\n",
       "  <tbody>\n",
       "    <tr>\n",
       "      <th>0</th>\n",
       "      <td>NERDS CANDY</td>\n",
       "      <td>3</td>\n",
       "    </tr>\n",
       "    <tr>\n",
       "      <th>1</th>\n",
       "      <td>DOVE</td>\n",
       "      <td>3</td>\n",
       "    </tr>\n",
       "    <tr>\n",
       "      <th>2</th>\n",
       "      <td>None</td>\n",
       "      <td>3</td>\n",
       "    </tr>\n",
       "    <tr>\n",
       "      <th>3</th>\n",
       "      <td>TRIDENT</td>\n",
       "      <td>2</td>\n",
       "    </tr>\n",
       "    <tr>\n",
       "      <th>4</th>\n",
       "      <td>SOUR PATCH KIDS</td>\n",
       "      <td>2</td>\n",
       "    </tr>\n",
       "  </tbody>\n",
       "</table>\n",
       "</div>"
      ],
      "text/plain": [
       "             BRAND  total_receipts\n",
       "0      NERDS CANDY               3\n",
       "1             DOVE               3\n",
       "2             None               3\n",
       "3          TRIDENT               2\n",
       "4  SOUR PATCH KIDS               2"
      ]
     },
     "execution_count": 3,
     "metadata": {},
     "output_type": "execute_result"
    }
   ],
   "source": [
    "# SQL Query to identify top 5 brands by receipts scanned among users 21 and over\n",
    "top_brands_query = \"\"\"\n",
    "SELECT p.BRAND\n",
    ", COUNT(DISTINCT t.RECEIPT_ID) AS total_receipts\n",
    "FROM transactions t\n",
    "JOIN products p \n",
    "  ON t.BARCODE = p.BARCODE\n",
    "JOIN users u\n",
    "  ON t.USER_ID = u.ID\n",
    "WHERE (strftime('%Y','now') - strftime('%Y',u.BIRTH_DATE)) >= 21\n",
    "GROUP BY p.BRAND\n",
    "ORDER BY total_receipts DESC\n",
    "LIMIT 5\n",
    "\"\"\"\n",
    "top_brands_df = pd.read_sql(top_brands_query, conn)\n",
    "top_brands_df"
   ]
  },
  {
   "cell_type": "markdown",
   "id": "24217d74-c236-46c2-a334-991e2c32a069",
   "metadata": {
    "tags": []
   },
   "source": [
    "### What is the percentage of sales in the Health & Wellness category by generation?"
   ]
  },
  {
   "cell_type": "markdown",
   "id": "ae072912-0a90-4fe0-bc88-73f0567bf3f6",
   "metadata": {},
   "source": [
    "The Boomer generation made up ~ 48% of the total sales at $91.91 followed by Millennials at ~ 28% and Gen X at ~ 24%."
   ]
  },
  {
   "cell_type": "markdown",
   "id": "0ff50493-39d0-47fd-a57b-c9c83309a05a",
   "metadata": {},
   "source": [
    "Assumptions made for analysis:\n",
    "- Users are categorized into generations based on their birth year:\n",
    "    - Gen Z: Born 1997 or later (≤ 27 years old)\n",
    "    - Millennials: Born 1981-1996 (28-43 years old)\n",
    "    - Gen X: Born 1965-1980 (44-59 years old)\n",
    "    - Boomers: Born 1946-1964 (60+ years old)\n",
    "- A user's age is determined using the BIRTH_DATE column in USER file.\n",
    "- If BIRTH_DATE is missing, the user is excluded from the analysis.\n",
    "- Sales are derived from the FINAL_SALE column in the TRANSACTION file.\n",
    "- Non-numeric or null values in FINAL_SALE are excluded from calculations.\n",
    "- Sales are summed per generation and then divided by total Health & Wellness sales to compute percentages.\n",
    "- Same currency ($) is used for all sales.\n",
    "- Only transactions with valid BARCODE values that match products in Health & Wellness category are considered."
   ]
  },
  {
   "cell_type": "code",
   "execution_count": 4,
   "id": "3058a676-9226-4484-aa48-58463e2c46a7",
   "metadata": {
    "tags": []
   },
   "outputs": [
    {
     "data": {
      "text/html": [
       "<div>\n",
       "<style scoped>\n",
       "    .dataframe tbody tr th:only-of-type {\n",
       "        vertical-align: middle;\n",
       "    }\n",
       "\n",
       "    .dataframe tbody tr th {\n",
       "        vertical-align: top;\n",
       "    }\n",
       "\n",
       "    .dataframe thead th {\n",
       "        text-align: right;\n",
       "    }\n",
       "</style>\n",
       "<table border=\"1\" class=\"dataframe\">\n",
       "  <thead>\n",
       "    <tr style=\"text-align: right;\">\n",
       "      <th></th>\n",
       "      <th>generation</th>\n",
       "      <th>health_sales</th>\n",
       "      <th>percentage_of_sales</th>\n",
       "    </tr>\n",
       "  </thead>\n",
       "  <tbody>\n",
       "    <tr>\n",
       "      <th>0</th>\n",
       "      <td>Boomers</td>\n",
       "      <td>91.91</td>\n",
       "      <td>48.460403</td>\n",
       "    </tr>\n",
       "    <tr>\n",
       "      <th>1</th>\n",
       "      <td>Millennials</td>\n",
       "      <td>52.16</td>\n",
       "      <td>27.501845</td>\n",
       "    </tr>\n",
       "    <tr>\n",
       "      <th>2</th>\n",
       "      <td>Gen X</td>\n",
       "      <td>45.59</td>\n",
       "      <td>24.037752</td>\n",
       "    </tr>\n",
       "  </tbody>\n",
       "</table>\n",
       "</div>"
      ],
      "text/plain": [
       "    generation  health_sales  percentage_of_sales\n",
       "0      Boomers         91.91            48.460403\n",
       "1  Millennials         52.16            27.501845\n",
       "2        Gen X         45.59            24.037752"
      ]
     },
     "execution_count": 4,
     "metadata": {},
     "output_type": "execute_result"
    }
   ],
   "source": [
    "# SQL Query to calculate percentage of sales in Health & Wellness category by generation\n",
    "query_health_wellness_sales_by_generation = \"\"\"\n",
    "WITH GenSales AS (\n",
    "    SELECT CASE WHEN (strftime('%Y', 'now') - strftime('%Y', BIRTH_DATE)) <= 27 THEN 'Gen Z'\n",
    "                WHEN (strftime('%Y', 'now') - strftime('%Y', BIRTH_DATE)) BETWEEN 28 AND 43 THEN 'Millennials'\n",
    "                WHEN (strftime('%Y', 'now') - strftime('%Y', BIRTH_DATE)) BETWEEN 44 AND 59 THEN 'Gen X'\n",
    "                ELSE 'Boomers'\n",
    "           END AS generation\n",
    "    , SUM(CAST(FINAL_SALE AS FLOAT)) AS health_sales\n",
    "    FROM transactions t\n",
    "    JOIN products p ON t.BARCODE = p.BARCODE\n",
    "    JOIN users u ON t.USER_ID = u.ID\n",
    "    WHERE p.CATEGORY_1 = 'Health & Wellness'\n",
    "    GROUP BY generation\n",
    ")\n",
    ", TotalSales AS (\n",
    "    SELECT SUM(health_sales) AS total_sales \n",
    "    FROM GenSales\n",
    ")\n",
    "SELECT g.generation\n",
    ", g.health_sales\n",
    ", (g.health_sales / t.total_sales) * 100 AS percentage_of_sales\n",
    "FROM GenSales g, TotalSales t\n",
    "ORDER BY percentage_of_sales DESC\n",
    "\"\"\"\n",
    "\n",
    "health_wellness_sales_by_generation_df = pd.read_sql(query_health_wellness_sales_by_generation, conn)\n",
    "health_wellness_sales_by_generation_df"
   ]
  },
  {
   "cell_type": "markdown",
   "id": "4451117a-97d5-4cc1-9d5c-4fb3263f4247",
   "metadata": {
    "tags": []
   },
   "source": [
    "## Open-ended question:"
   ]
  },
  {
   "cell_type": "markdown",
   "id": "e28ff7d1-898d-4c5a-9691-713efe8248f1",
   "metadata": {
    "tags": []
   },
   "source": [
    "### Who are Fetch's power users?"
   ]
  },
  {
   "cell_type": "markdown",
   "id": "89636555-24d1-4aa2-b133-9c474ebbd5f7",
   "metadata": {},
   "source": [
    "Power users are defined as user in the top 5% for:\n",
    "- Receipts scanned (number of unique tranactions submitted).\n",
    "- Total spending (sum of all purchases recorded in FINAL_SALE).\n",
    "\n",
    "The general distribution of the total sales is less than a dollar to 20 dollars for the power users with some outliers reaching to 72 dollars. Here is additional analysis of power users based on generation, item category and store preferences:\n",
    "- Generation Distribution of Power Users:\n",
    "    - Millennials (28-43 years old) represent the largest group of power users.\n",
    "    - Gen X (44-59 years old) follows as the second largest group.\n",
    "    - Gen Z (≤27 years old) has fewer power users, indicating lower engagement levels.\n",
    "    - Boomers (60+ years old) make up the smallest portion, suggesting they are less active in scanning receipts and making purchases through Fetch.\n",
    "- Category Preferences by Generation: \n",
    "    - Millennials and Gen X are more likely to engage with a diverse range of categories, particularly in grocery, health & wellness, and household essentials.\n",
    "    - Gen Z shows stronger engagement in snack and beverage categories but lower total spending.\n",
    "    - Boomers, though fewer in number, contribute to high-value purchases in limited categories.\n",
    "- Store Preferences by Generation: \n",
    "    - Millennials and Gen X users frequently shop at large national retailers and grocery chains.\n",
    "    - Gen Z power users show higher store diversity, shopping at convenience stores, fast food chains, and specialty retailers.\n",
    "    - Boomers primarily shop at traditional grocery stores and pharmacies."
   ]
  },
  {
   "cell_type": "markdown",
   "id": "3d625ba7-c2c9-42c4-840f-485ed4bc7c1a",
   "metadata": {
    "tags": []
   },
   "source": [
    "Assumptions made for analysis:\n",
    "- Only distinct receipts per user are counted to avoid duplicate transactions.\n",
    "- The 95th presentile threshold for total_receipts and total_sales is calculated using subqueries.\n",
    "- Power users are sorted by total sales (highest first), followed by receipt scanned."
   ]
  },
  {
   "cell_type": "code",
   "execution_count": 5,
   "id": "5c91d916-115d-4f82-9987-53f43bab17c9",
   "metadata": {
    "tags": []
   },
   "outputs": [
    {
     "data": {
      "text/html": [
       "<div>\n",
       "<style scoped>\n",
       "    .dataframe tbody tr th:only-of-type {\n",
       "        vertical-align: middle;\n",
       "    }\n",
       "\n",
       "    .dataframe tbody tr th {\n",
       "        vertical-align: top;\n",
       "    }\n",
       "\n",
       "    .dataframe thead th {\n",
       "        text-align: right;\n",
       "    }\n",
       "</style>\n",
       "<table border=\"1\" class=\"dataframe\">\n",
       "  <thead>\n",
       "    <tr style=\"text-align: right;\">\n",
       "      <th></th>\n",
       "      <th>GENDER</th>\n",
       "      <th>STATE</th>\n",
       "      <th>generation</th>\n",
       "      <th>STORE_NAME</th>\n",
       "      <th>CATEGORY_1</th>\n",
       "      <th>total_receipts</th>\n",
       "      <th>total_sales</th>\n",
       "    </tr>\n",
       "  </thead>\n",
       "  <tbody>\n",
       "    <tr>\n",
       "      <th>0</th>\n",
       "      <td>male</td>\n",
       "      <td>PA</td>\n",
       "      <td>Boomers</td>\n",
       "      <td>CVS</td>\n",
       "      <td>Health &amp; Wellness</td>\n",
       "      <td>2</td>\n",
       "      <td>72.00</td>\n",
       "    </tr>\n",
       "    <tr>\n",
       "      <th>1</th>\n",
       "      <td>female</td>\n",
       "      <td>NY</td>\n",
       "      <td>Boomers</td>\n",
       "      <td>SAM'S CLUB</td>\n",
       "      <td>Snacks</td>\n",
       "      <td>4</td>\n",
       "      <td>46.72</td>\n",
       "    </tr>\n",
       "    <tr>\n",
       "      <th>2</th>\n",
       "      <td>female</td>\n",
       "      <td>TX</td>\n",
       "      <td>Boomers</td>\n",
       "      <td>WALMART</td>\n",
       "      <td>Alcohol</td>\n",
       "      <td>2</td>\n",
       "      <td>34.96</td>\n",
       "    </tr>\n",
       "    <tr>\n",
       "      <th>3</th>\n",
       "      <td>female</td>\n",
       "      <td>SC</td>\n",
       "      <td>Millennials</td>\n",
       "      <td>WALMART</td>\n",
       "      <td>Health &amp; Wellness</td>\n",
       "      <td>2</td>\n",
       "      <td>23.94</td>\n",
       "    </tr>\n",
       "    <tr>\n",
       "      <th>4</th>\n",
       "      <td>female</td>\n",
       "      <td>FL</td>\n",
       "      <td>Millennials</td>\n",
       "      <td>WALMART</td>\n",
       "      <td>Snacks</td>\n",
       "      <td>4</td>\n",
       "      <td>18.60</td>\n",
       "    </tr>\n",
       "    <tr>\n",
       "      <th>...</th>\n",
       "      <td>...</td>\n",
       "      <td>...</td>\n",
       "      <td>...</td>\n",
       "      <td>...</td>\n",
       "      <td>...</td>\n",
       "      <td>...</td>\n",
       "      <td>...</td>\n",
       "    </tr>\n",
       "    <tr>\n",
       "      <th>59</th>\n",
       "      <td>female</td>\n",
       "      <td>CO</td>\n",
       "      <td>Gen X</td>\n",
       "      <td>WALMART</td>\n",
       "      <td>Beverages</td>\n",
       "      <td>2</td>\n",
       "      <td>1.52</td>\n",
       "    </tr>\n",
       "    <tr>\n",
       "      <th>60</th>\n",
       "      <td>female</td>\n",
       "      <td>FL</td>\n",
       "      <td>Boomers</td>\n",
       "      <td>FAMILY DOLLAR</td>\n",
       "      <td>Snacks</td>\n",
       "      <td>2</td>\n",
       "      <td>1.25</td>\n",
       "    </tr>\n",
       "    <tr>\n",
       "      <th>61</th>\n",
       "      <td>female</td>\n",
       "      <td>NC</td>\n",
       "      <td>Millennials</td>\n",
       "      <td>MC</td>\n",
       "      <td>Snacks</td>\n",
       "      <td>2</td>\n",
       "      <td>1.25</td>\n",
       "    </tr>\n",
       "    <tr>\n",
       "      <th>62</th>\n",
       "      <td>female</td>\n",
       "      <td>MO</td>\n",
       "      <td>Boomers</td>\n",
       "      <td>ST LUKES OUTPATIENT</td>\n",
       "      <td>Health &amp; Wellness</td>\n",
       "      <td>2</td>\n",
       "      <td>1.15</td>\n",
       "    </tr>\n",
       "    <tr>\n",
       "      <th>63</th>\n",
       "      <td>female</td>\n",
       "      <td>KY</td>\n",
       "      <td>Gen X</td>\n",
       "      <td>WALMART</td>\n",
       "      <td>Snacks</td>\n",
       "      <td>2</td>\n",
       "      <td>0.75</td>\n",
       "    </tr>\n",
       "  </tbody>\n",
       "</table>\n",
       "<p>64 rows × 7 columns</p>\n",
       "</div>"
      ],
      "text/plain": [
       "    GENDER STATE   generation           STORE_NAME         CATEGORY_1  \\\n",
       "0     male    PA      Boomers                  CVS  Health & Wellness   \n",
       "1   female    NY      Boomers           SAM'S CLUB             Snacks   \n",
       "2   female    TX      Boomers              WALMART            Alcohol   \n",
       "3   female    SC  Millennials              WALMART  Health & Wellness   \n",
       "4   female    FL  Millennials              WALMART             Snacks   \n",
       "..     ...   ...          ...                  ...                ...   \n",
       "59  female    CO        Gen X              WALMART          Beverages   \n",
       "60  female    FL      Boomers        FAMILY DOLLAR             Snacks   \n",
       "61  female    NC  Millennials                   MC             Snacks   \n",
       "62  female    MO      Boomers  ST LUKES OUTPATIENT  Health & Wellness   \n",
       "63  female    KY        Gen X              WALMART             Snacks   \n",
       "\n",
       "    total_receipts  total_sales  \n",
       "0                2        72.00  \n",
       "1                4        46.72  \n",
       "2                2        34.96  \n",
       "3                2        23.94  \n",
       "4                4        18.60  \n",
       "..             ...          ...  \n",
       "59               2         1.52  \n",
       "60               2         1.25  \n",
       "61               2         1.25  \n",
       "62               2         1.15  \n",
       "63               2         0.75  \n",
       "\n",
       "[64 rows x 7 columns]"
      ]
     },
     "execution_count": 5,
     "metadata": {},
     "output_type": "execute_result"
    }
   ],
   "source": [
    "# SQL Query to analyze demographic, category, and store breakdown of Fetch's Power Users\n",
    "query_power_users_demographics_categories_stores = \"\"\"\n",
    "WITH UserActivity AS (\n",
    "    SELECT t.USER_ID\n",
    "    , COUNT(DISTINCT t.RECEIPT_ID) AS total_receipts\n",
    "    , SUM(CAST(t.FINAL_SALE AS FLOAT)) AS total_sales\n",
    "    FROM transactions t\n",
    "    GROUP BY t.USER_ID\n",
    "), PercentileThresholds AS (\n",
    "    SELECT (SELECT total_receipts FROM UserActivity ORDER BY total_receipts DESC LIMIT 1 OFFSET (SELECT COUNT(*) FROM UserActivity) * 95 / 100) AS receipts_95th\n",
    "    , (SELECT total_sales FROM UserActivity ORDER BY total_sales DESC LIMIT 1 OFFSET (SELECT COUNT(*) FROM UserActivity) * 95 / 100) AS sales_95th\n",
    "),\n",
    "PowerUsers AS (\n",
    "    SELECT ua.USER_ID\n",
    "    FROM UserActivity ua, PercentileThresholds p\n",
    "    WHERE ua.total_receipts >= p.receipts_95th \n",
    "    AND ua.total_sales >= p.sales_95th\n",
    ")\n",
    "SELECT u.GENDER\n",
    ", u.STATE\n",
    ", CASE WHEN (strftime('%Y', 'now') - strftime('%Y', u.BIRTH_DATE)) <= 27 THEN 'Gen Z'\n",
    "       WHEN (strftime('%Y', 'now') - strftime('%Y', u.BIRTH_DATE)) BETWEEN 28 AND 43 THEN 'Millennials'\n",
    "       WHEN (strftime('%Y', 'now') - strftime('%Y', u.BIRTH_DATE)) BETWEEN 44 AND 59 THEN 'Gen X'\n",
    "       ELSE 'Boomers'\n",
    "  END AS generation\n",
    ", t.STORE_NAME\n",
    ", p.CATEGORY_1\n",
    ", COUNT(t.RECEIPT_ID) AS total_receipts\n",
    ", SUM(CAST(t.FINAL_SALE AS FLOAT)) AS total_sales\n",
    "FROM users u\n",
    "JOIN PowerUsers pu \n",
    "  ON u.ID = pu.USER_ID\n",
    "JOIN transactions t \n",
    "  ON u.ID = t.USER_ID\n",
    "JOIN products p \n",
    "  ON t.BARCODE = p.BARCODE\n",
    "GROUP BY u.GENDER\n",
    ", u.STATE\n",
    ", generation\n",
    ", t.STORE_NAME\n",
    ", p.CATEGORY_1\n",
    "ORDER BY total_sales DESC\n",
    ", total_receipts DESC\n",
    "\"\"\"\n",
    "\n",
    "query_power_users_demographics_categories_stores_df = pd.read_sql(query_power_users_demographics_categories_stores, conn)\n",
    "query_power_users_demographics_categories_stores_df"
   ]
  },
  {
   "cell_type": "code",
   "execution_count": 6,
   "id": "c3ebb5b1-c190-4de9-81bc-00585da65ce4",
   "metadata": {
    "tags": []
   },
   "outputs": [
    {
     "data": {
      "image/png": "[encoded data removed]",
      "text/plain": [
       "<Figure size 1200x600 with 1 Axes>"
      ]
     },
     "metadata": {},
     "output_type": "display_data"
    }
   ],
   "source": [
    "plt.figure(figsize=(12, 6))\n",
    "sns.boxplot(x=query_power_users_demographics_categories_stores_df[\"total_sales\"].dropna())\n",
    "plt.title(\"Total Sales\")\n",
    "plt.show()"
   ]
  },
  {
   "cell_type": "code",
   "execution_count": null,
   "id": "afe5e181-f5f3-442d-9844-8f6923bfd412",
   "metadata": {},
   "outputs": [],
   "source": []
  }
 ],
 "metadata": {
  "kernelspec": {
   "display_name": "Python (python-3.10)",
   "language": "python",
   "name": "conda-env-python-3.10-py"
  },
  "language_info": {
   "codemirror_mode": {
    "name": "ipython",
    "version": 3
   },
   "file_extension": ".py",
   "mimetype": "text/x-python",
   "name": "python",
   "nbconvert_exporter": "python",
   "pygments_lexer": "ipython3",
   "version": "3.10.15"
  }
 },
 "nbformat": 4,
 "nbformat_minor": 5
}
