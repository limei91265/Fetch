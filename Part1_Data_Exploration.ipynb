{
 "cells": [
  {
   "cell_type": "code",
   "execution_count": 1,
   "id": "7bff23a6-6491-4053-8fd4-eeb8d9390f9e",
   "metadata": {},
   "outputs": [],
   "source": [
    "# Import libraries for analysis\n",
    "import pandas as pd\n",
    "import matplotlib.pyplot as plt\n",
    "import seaborn as sns"
   ]
  },
  {
   "cell_type": "code",
   "execution_count": 2,
   "id": "e01000da-be94-429b-a3aa-710e8b0f4561",
   "metadata": {
    "tags": []
   },
   "outputs": [],
   "source": [
    "# Putting CSV files into dataframe for analysis\n",
    "products_df = pd.read_csv(\"/home/workspace/test/PRODUCTS.csv\")\n",
    "transactions_df = pd.read_csv(\"/home/workspace/test/TRANSACTION.csv\")\n",
    "users_df = pd.read_csv(\"/home/workspace/test/USER.csv\")"
   ]
  },
  {
   "cell_type": "code",
   "execution_count": 3,
   "id": "fb8ba76f-eeb3-490e-8eed-0ab16843b675",
   "metadata": {
    "tags": []
   },
   "outputs": [],
   "source": [
    "# Script for Missing Values Heatmap visualizations \n",
    "# Convert date fields to datetime\n",
    "date_cols = [\"PURCHASE_DATE\", \"SCAN_DATE\", \"CREATED_DATE\", \"BIRTH_DATE\"]\n",
    "for col in date_cols:\n",
    "    for df in [transactions_df, users_df]:\n",
    "        if col in df.columns:\n",
    "            df[col] = pd.to_datetime(df[col], errors=\"coerce\")"
   ]
  },
  {
   "cell_type": "code",
   "execution_count": 4,
   "id": "fb366082-52ff-4711-93db-b3165df8267f",
   "metadata": {
    "tags": []
   },
   "outputs": [
    {
     "data": {
      "image/png": "[encoded data removed]",
      "text/plain": [
       "<Figure size 640x480 with 1 Axes>"
      ]
     },
     "metadata": {},
     "output_type": "display_data"
    }
   ],
   "source": [
    "# Duplicate Records Count\n",
    "duplicate_counts = {\n",
    "    \"Products\": products_df.duplicated().sum(),\n",
    "    \"Transactions\": transactions_df.duplicated().sum(),\n",
    "    \"Users\": users_df.duplicated().sum(),\n",
    "}\n",
    "plt.bar(duplicate_counts.keys(), duplicate_counts.values(), color=['red', 'blue', 'green'])\n",
    "plt.xlabel(\"Dataset\")\n",
    "plt.ylabel(\"Number of Duplicate Rows\")\n",
    "plt.title(\"Duplicate Records Count\")\n",
    "plt.show()\n"
   ]
  },
  {
   "cell_type": "markdown",
   "id": "aaa78948-2dd6-4161-916e-3dc035ebd374",
   "metadata": {},
   "source": [
    "Data exploration is separated by the datasets (Product, Transaction & User) and analyzed for data quality issue and fields that pose challenge with additional findings for each respective dataset. "
   ]
  },
  {
   "cell_type": "markdown",
   "id": "a7301f7a-9023-49f6-82d4-d9f6a4fb0edf",
   "metadata": {
    "tags": []
   },
   "source": [
    "## 1. Product dataset"
   ]
  },
  {
   "cell_type": "markdown",
   "id": "a5775fe1-8aa5-477f-8a73-8efcb7ca6413",
   "metadata": {
    "tags": []
   },
   "source": [
    "#### Data Quality Issue: Missing Values"
   ]
  },
  {
   "cell_type": "markdown",
   "id": "5a7fe33d-1afe-4a0d-8a4d-155348a0ef0b",
   "metadata": {
    "tags": []
   },
   "source": [
    "- CATEGORY_4 has the most missing values (~ 778k, ~ 92%) followed by MANUFACTURER(~ 226k, ~ 27%) and BRAND(~ 226k, ~ 27%).\n",
    "- BARCODE has ~ 4k missing values, less than 1%. Important to note that without the barcode, those products details won't be linked to transactions table."
   ]
  },
  {
   "cell_type": "markdown",
   "id": "337890a1-113d-406d-955e-a2fbc9e9b3d1",
   "metadata": {},
   "source": [
    "#### Potential Issues:"
   ]
  },
  {
   "cell_type": "markdown",
   "id": "951c7a2a-f45f-4a24-9c5e-0770d3922e9f",
   "metadata": {},
   "source": [
    "- CATEGORY_4 has sparse data, making it unclear how relevent this field is and unreliable.\n",
    "- MANUFACTURER and BRAND have high missing values which will impact product analysis.\n",
    "- Some entries have \"PLACEHOLDER MANUFACTURER\", indicating incomplete data.\n",
    "- BARCODE is a float which may introduce precision error.\n",
    "- Dataset has 215 duplicated rows and would need to remove duplicated records."
   ]
  },
  {
   "cell_type": "markdown",
   "id": "0138c3f2-fb41-416d-b833-f08eb916e5d9",
   "metadata": {},
   "source": [
    "#### Additional Findings:"
   ]
  },
  {
   "cell_type": "markdown",
   "id": "751e9b3f-a48a-414e-ba92-a35b8629e9e9",
   "metadata": {},
   "source": [
    "- BARCODE has ~ 841k unique values, indicating almost all products have a unique barcode.\n",
    "- CATEGORY_1 has low unique values (27), suggesting a high level grouping (possibly division)."
   ]
  },
  {
   "cell_type": "code",
   "execution_count": 5,
   "id": "65558313-f32a-47a1-a0f2-309f6209fa9f",
   "metadata": {
    "tags": []
   },
   "outputs": [
    {
     "name": "stdout",
     "output_type": "stream",
     "text": [
      "<class 'pandas.core.frame.DataFrame'>\n",
      "RangeIndex: 845552 entries, 0 to 845551\n",
      "Data columns (total 7 columns):\n",
      " #   Column        Non-Null Count   Dtype  \n",
      "---  ------        --------------   -----  \n",
      " 0   CATEGORY_1    845441 non-null  object \n",
      " 1   CATEGORY_2    844128 non-null  object \n",
      " 2   CATEGORY_3    784986 non-null  object \n",
      " 3   CATEGORY_4    67459 non-null   object \n",
      " 4   MANUFACTURER  619078 non-null  object \n",
      " 5   BRAND         619080 non-null  object \n",
      " 6   BARCODE       841527 non-null  float64\n",
      "dtypes: float64(1), object(6)\n",
      "memory usage: 45.2+ MB\n"
     ]
    },
    {
     "data": {
      "text/html": [
       "<div>\n",
       "<style scoped>\n",
       "    .dataframe tbody tr th:only-of-type {\n",
       "        vertical-align: middle;\n",
       "    }\n",
       "\n",
       "    .dataframe tbody tr th {\n",
       "        vertical-align: top;\n",
       "    }\n",
       "\n",
       "    .dataframe thead th {\n",
       "        text-align: right;\n",
       "    }\n",
       "</style>\n",
       "<table border=\"1\" class=\"dataframe\">\n",
       "  <thead>\n",
       "    <tr style=\"text-align: right;\">\n",
       "      <th></th>\n",
       "      <th>CATEGORY_1</th>\n",
       "      <th>CATEGORY_2</th>\n",
       "      <th>CATEGORY_3</th>\n",
       "      <th>CATEGORY_4</th>\n",
       "      <th>MANUFACTURER</th>\n",
       "      <th>BRAND</th>\n",
       "      <th>BARCODE</th>\n",
       "    </tr>\n",
       "  </thead>\n",
       "  <tbody>\n",
       "    <tr>\n",
       "      <th>0</th>\n",
       "      <td>Health &amp; Wellness</td>\n",
       "      <td>Sexual Health</td>\n",
       "      <td>Conductivity Gels &amp; Lotions</td>\n",
       "      <td>NaN</td>\n",
       "      <td>NaN</td>\n",
       "      <td>NaN</td>\n",
       "      <td>7.964944e+11</td>\n",
       "    </tr>\n",
       "    <tr>\n",
       "      <th>1</th>\n",
       "      <td>Snacks</td>\n",
       "      <td>Puffed Snacks</td>\n",
       "      <td>Cheese Curls &amp; Puffs</td>\n",
       "      <td>NaN</td>\n",
       "      <td>NaN</td>\n",
       "      <td>NaN</td>\n",
       "      <td>2.327801e+10</td>\n",
       "    </tr>\n",
       "    <tr>\n",
       "      <th>2</th>\n",
       "      <td>Health &amp; Wellness</td>\n",
       "      <td>Hair Care</td>\n",
       "      <td>Hair Care Accessories</td>\n",
       "      <td>NaN</td>\n",
       "      <td>PLACEHOLDER MANUFACTURER</td>\n",
       "      <td>ELECSOP</td>\n",
       "      <td>4.618178e+11</td>\n",
       "    </tr>\n",
       "    <tr>\n",
       "      <th>3</th>\n",
       "      <td>Health &amp; Wellness</td>\n",
       "      <td>Oral Care</td>\n",
       "      <td>Toothpaste</td>\n",
       "      <td>NaN</td>\n",
       "      <td>COLGATE-PALMOLIVE</td>\n",
       "      <td>COLGATE</td>\n",
       "      <td>3.500047e+10</td>\n",
       "    </tr>\n",
       "    <tr>\n",
       "      <th>4</th>\n",
       "      <td>Health &amp; Wellness</td>\n",
       "      <td>Medicines &amp; Treatments</td>\n",
       "      <td>Essential Oils</td>\n",
       "      <td>NaN</td>\n",
       "      <td>MAPLE HOLISTICS AND HONEYDEW PRODUCTS INTERCHA...</td>\n",
       "      <td>MAPLE HOLISTICS</td>\n",
       "      <td>8.068109e+11</td>\n",
       "    </tr>\n",
       "  </tbody>\n",
       "</table>\n",
       "</div>"
      ],
      "text/plain": [
       "          CATEGORY_1              CATEGORY_2                   CATEGORY_3  \\\n",
       "0  Health & Wellness           Sexual Health  Conductivity Gels & Lotions   \n",
       "1             Snacks           Puffed Snacks         Cheese Curls & Puffs   \n",
       "2  Health & Wellness               Hair Care        Hair Care Accessories   \n",
       "3  Health & Wellness               Oral Care                   Toothpaste   \n",
       "4  Health & Wellness  Medicines & Treatments               Essential Oils   \n",
       "\n",
       "  CATEGORY_4                                       MANUFACTURER  \\\n",
       "0        NaN                                                NaN   \n",
       "1        NaN                                                NaN   \n",
       "2        NaN                           PLACEHOLDER MANUFACTURER   \n",
       "3        NaN                                  COLGATE-PALMOLIVE   \n",
       "4        NaN  MAPLE HOLISTICS AND HONEYDEW PRODUCTS INTERCHA...   \n",
       "\n",
       "             BRAND       BARCODE  \n",
       "0              NaN  7.964944e+11  \n",
       "1              NaN  2.327801e+10  \n",
       "2          ELECSOP  4.618178e+11  \n",
       "3          COLGATE  3.500047e+10  \n",
       "4  MAPLE HOLISTICS  8.068109e+11  "
      ]
     },
     "execution_count": 5,
     "metadata": {},
     "output_type": "execute_result"
    }
   ],
   "source": [
    "# Display datastructure & info on dataset\n",
    "products_df.info()\n",
    "products_df.head()"
   ]
  },
  {
   "cell_type": "code",
   "execution_count": 6,
   "id": "bd780519-0547-4009-a8f5-613ab3c11781",
   "metadata": {
    "tags": []
   },
   "outputs": [
    {
     "data": {
      "text/plain": [
       "CATEGORY_1       0.013128\n",
       "CATEGORY_2       0.168411\n",
       "CATEGORY_3       7.162895\n",
       "CATEGORY_4      92.021898\n",
       "MANUFACTURER    26.784160\n",
       "BRAND           26.783923\n",
       "BARCODE          0.476020\n",
       "dtype: float64"
      ]
     },
     "execution_count": 6,
     "metadata": {},
     "output_type": "execute_result"
    }
   ],
   "source": [
    "# Display missing values percentage in dataset\n",
    "products_null = products_df.isnull().mean()*100\n",
    "products_null"
   ]
  },
  {
   "cell_type": "code",
   "execution_count": 7,
   "id": "630656bf-7570-41a6-a34a-5714a3c6325e",
   "metadata": {
    "tags": []
   },
   "outputs": [
    {
     "data": {
      "text/plain": [
       "CATEGORY_1          27\n",
       "CATEGORY_2         121\n",
       "CATEGORY_3         344\n",
       "CATEGORY_4         127\n",
       "MANUFACTURER      4354\n",
       "BRAND             8122\n",
       "BARCODE         841342\n",
       "dtype: int64"
      ]
     },
     "execution_count": 7,
     "metadata": {},
     "output_type": "execute_result"
    }
   ],
   "source": [
    "# Display unique values in columns to identify anomalies\n",
    "products_unique = products_df.nunique()\n",
    "products_unique"
   ]
  },
  {
   "cell_type": "code",
   "execution_count": 8,
   "id": "a7910bcf-2b64-4d12-80a1-90db3814ba2a",
   "metadata": {
    "tags": []
   },
   "outputs": [
    {
     "data": {
      "text/plain": [
       "215"
      ]
     },
     "execution_count": 8,
     "metadata": {},
     "output_type": "execute_result"
    }
   ],
   "source": [
    "# Display duplicate entries in dataset\n",
    "products_duplicate = products_df.duplicated().sum()\n",
    "products_duplicate"
   ]
  },
  {
   "cell_type": "code",
   "execution_count": 31,
   "id": "34cbe504-ebbc-414c-ba6a-cb39309d5989",
   "metadata": {
    "tags": []
   },
   "outputs": [
    {
     "data": {
      "image/png": "[encoded data removed]",
      "text/plain": [
       "<Figure size 1200x600 with 1 Axes>"
      ]
     },
     "metadata": {},
     "output_type": "display_data"
    }
   ],
   "source": [
    "# Missing Values Heatmap\n",
    "plt.figure(figsize=(12, 6))\n",
    "sns.heatmap(products_df.isnull(), cbar=False, cmap=\"viridis\", yticklabels=False)\n",
    "plt.title(\"Missing Data in Products Dataset\")\n",
    "plt.show()"
   ]
  },
  {
   "cell_type": "markdown",
   "id": "a356a05a-da39-4a4f-8769-603f4e40f4c7",
   "metadata": {
    "tags": []
   },
   "source": [
    "## 2. Transaction dataset"
   ]
  },
  {
   "cell_type": "markdown",
   "id": "ce441abe-886e-4f5f-97a8-f1b40ab843f3",
   "metadata": {
    "tags": []
   },
   "source": [
    "#### Data Quality Issue: Missing Values"
   ]
  },
  {
   "cell_type": "markdown",
   "id": "282494ca-7778-47c0-b540-dda101c2db05",
   "metadata": {},
   "source": [
    "- BARCODE is missing ~ 6k records, ~ 12% of transactions.\n",
    "- FINAL_QUANTITY and FINAL_SALE have some non-numeric values like \"zero\"."
   ]
  },
  {
   "cell_type": "markdown",
   "id": "c865cf67-bfa7-4d1e-9bd4-ff4f304d8c21",
   "metadata": {},
   "source": [
    "#### Potential Issues:"
   ]
  },
  {
   "cell_type": "markdown",
   "id": "500a7eda-7f65-458e-8806-d19dac638feb",
   "metadata": {},
   "source": [
    "- BARCODE missing tranactions would make it difficult to link purchases to specific products.\n",
    "- FINAL_QUANTITY and FINAL_SALE should be numeric values but have text values like \"zero\". It would need to be standardized.\n",
    "- SCAN_DATE has timestamp format which might require conversion for analysis.\n",
    "- Dataset has 171 duplicated rows and would need to remove duplicated records."
   ]
  },
  {
   "cell_type": "markdown",
   "id": "51ce54d5-c794-4913-a313-612486001195",
   "metadata": {},
   "source": [
    "#### Additional Findings:"
   ]
  },
  {
   "cell_type": "markdown",
   "id": "6a0bc357-5ade-4ca9-9dbb-cccbeed53c09",
   "metadata": {},
   "source": [
    "- STORE_NAME has 954 unique values, suggesting high store diversity.\n",
    "- USER_ID has ~ 18k unique user, meaning many users have multiple transactions."
   ]
  },
  {
   "cell_type": "code",
   "execution_count": 10,
   "id": "398e9cf5-734d-4d7c-8475-f5338caa47a8",
   "metadata": {
    "tags": []
   },
   "outputs": [
    {
     "name": "stdout",
     "output_type": "stream",
     "text": [
      "<class 'pandas.core.frame.DataFrame'>\n",
      "RangeIndex: 50000 entries, 0 to 49999\n",
      "Data columns (total 8 columns):\n",
      " #   Column          Non-Null Count  Dtype              \n",
      "---  ------          --------------  -----              \n",
      " 0   RECEIPT_ID      50000 non-null  object             \n",
      " 1   PURCHASE_DATE   50000 non-null  datetime64[ns]     \n",
      " 2   SCAN_DATE       50000 non-null  datetime64[ns, UTC]\n",
      " 3   STORE_NAME      50000 non-null  object             \n",
      " 4   USER_ID         50000 non-null  object             \n",
      " 5   BARCODE         44238 non-null  float64            \n",
      " 6   FINAL_QUANTITY  50000 non-null  object             \n",
      " 7   FINAL_SALE      50000 non-null  object             \n",
      "dtypes: datetime64[ns, UTC](1), datetime64[ns](1), float64(1), object(5)\n",
      "memory usage: 3.1+ MB\n"
     ]
    },
    {
     "data": {
      "text/html": [
       "<div>\n",
       "<style scoped>\n",
       "    .dataframe tbody tr th:only-of-type {\n",
       "        vertical-align: middle;\n",
       "    }\n",
       "\n",
       "    .dataframe tbody tr th {\n",
       "        vertical-align: top;\n",
       "    }\n",
       "\n",
       "    .dataframe thead th {\n",
       "        text-align: right;\n",
       "    }\n",
       "</style>\n",
       "<table border=\"1\" class=\"dataframe\">\n",
       "  <thead>\n",
       "    <tr style=\"text-align: right;\">\n",
       "      <th></th>\n",
       "      <th>RECEIPT_ID</th>\n",
       "      <th>PURCHASE_DATE</th>\n",
       "      <th>SCAN_DATE</th>\n",
       "      <th>STORE_NAME</th>\n",
       "      <th>USER_ID</th>\n",
       "      <th>BARCODE</th>\n",
       "      <th>FINAL_QUANTITY</th>\n",
       "      <th>FINAL_SALE</th>\n",
       "    </tr>\n",
       "  </thead>\n",
       "  <tbody>\n",
       "    <tr>\n",
       "      <th>0</th>\n",
       "      <td>0000d256-4041-4a3e-adc4-5623fb6e0c99</td>\n",
       "      <td>2024-08-21</td>\n",
       "      <td>2024-08-21 14:19:06.539000+00:00</td>\n",
       "      <td>WALMART</td>\n",
       "      <td>63b73a7f3d310dceeabd4758</td>\n",
       "      <td>1.530001e+10</td>\n",
       "      <td>1.00</td>\n",
       "      <td></td>\n",
       "    </tr>\n",
       "    <tr>\n",
       "      <th>1</th>\n",
       "      <td>0001455d-7a92-4a7b-a1d2-c747af1c8fd3</td>\n",
       "      <td>2024-07-20</td>\n",
       "      <td>2024-07-20 09:50:24.206000+00:00</td>\n",
       "      <td>ALDI</td>\n",
       "      <td>62c08877baa38d1a1f6c211a</td>\n",
       "      <td>NaN</td>\n",
       "      <td>zero</td>\n",
       "      <td>1.49</td>\n",
       "    </tr>\n",
       "    <tr>\n",
       "      <th>2</th>\n",
       "      <td>00017e0a-7851-42fb-bfab-0baa96e23586</td>\n",
       "      <td>2024-08-18</td>\n",
       "      <td>2024-08-19 15:38:56.813000+00:00</td>\n",
       "      <td>WALMART</td>\n",
       "      <td>60842f207ac8b7729e472020</td>\n",
       "      <td>7.874223e+10</td>\n",
       "      <td>1.00</td>\n",
       "      <td></td>\n",
       "    </tr>\n",
       "    <tr>\n",
       "      <th>3</th>\n",
       "      <td>000239aa-3478-453d-801e-66a82e39c8af</td>\n",
       "      <td>2024-06-18</td>\n",
       "      <td>2024-06-19 11:03:37.468000+00:00</td>\n",
       "      <td>FOOD LION</td>\n",
       "      <td>63fcd7cea4f8442c3386b589</td>\n",
       "      <td>7.833997e+11</td>\n",
       "      <td>zero</td>\n",
       "      <td>3.49</td>\n",
       "    </tr>\n",
       "    <tr>\n",
       "      <th>4</th>\n",
       "      <td>00026b4c-dfe8-49dd-b026-4c2f0fd5c6a1</td>\n",
       "      <td>2024-07-04</td>\n",
       "      <td>2024-07-05 15:56:43.549000+00:00</td>\n",
       "      <td>RANDALLS</td>\n",
       "      <td>6193231ae9b3d75037b0f928</td>\n",
       "      <td>4.790050e+10</td>\n",
       "      <td>1.00</td>\n",
       "      <td></td>\n",
       "    </tr>\n",
       "  </tbody>\n",
       "</table>\n",
       "</div>"
      ],
      "text/plain": [
       "                             RECEIPT_ID PURCHASE_DATE  \\\n",
       "0  0000d256-4041-4a3e-adc4-5623fb6e0c99    2024-08-21   \n",
       "1  0001455d-7a92-4a7b-a1d2-c747af1c8fd3    2024-07-20   \n",
       "2  00017e0a-7851-42fb-bfab-0baa96e23586    2024-08-18   \n",
       "3  000239aa-3478-453d-801e-66a82e39c8af    2024-06-18   \n",
       "4  00026b4c-dfe8-49dd-b026-4c2f0fd5c6a1    2024-07-04   \n",
       "\n",
       "                         SCAN_DATE STORE_NAME                   USER_ID  \\\n",
       "0 2024-08-21 14:19:06.539000+00:00    WALMART  63b73a7f3d310dceeabd4758   \n",
       "1 2024-07-20 09:50:24.206000+00:00       ALDI  62c08877baa38d1a1f6c211a   \n",
       "2 2024-08-19 15:38:56.813000+00:00    WALMART  60842f207ac8b7729e472020   \n",
       "3 2024-06-19 11:03:37.468000+00:00  FOOD LION  63fcd7cea4f8442c3386b589   \n",
       "4 2024-07-05 15:56:43.549000+00:00   RANDALLS  6193231ae9b3d75037b0f928   \n",
       "\n",
       "        BARCODE FINAL_QUANTITY FINAL_SALE  \n",
       "0  1.530001e+10           1.00             \n",
       "1           NaN           zero       1.49  \n",
       "2  7.874223e+10           1.00             \n",
       "3  7.833997e+11           zero       3.49  \n",
       "4  4.790050e+10           1.00             "
      ]
     },
     "execution_count": 10,
     "metadata": {},
     "output_type": "execute_result"
    }
   ],
   "source": [
    "# Display datastructure & info on dataset\n",
    "transactions_df.info()\n",
    "transactions_df.head()"
   ]
  },
  {
   "cell_type": "code",
   "execution_count": 11,
   "id": "94d40c9b-c42d-4f3d-90d4-f54d1a8d841a",
   "metadata": {
    "tags": []
   },
   "outputs": [
    {
     "data": {
      "text/plain": [
       "RECEIPT_ID         0.000\n",
       "PURCHASE_DATE      0.000\n",
       "SCAN_DATE          0.000\n",
       "STORE_NAME         0.000\n",
       "USER_ID            0.000\n",
       "BARCODE           11.524\n",
       "FINAL_QUANTITY     0.000\n",
       "FINAL_SALE         0.000\n",
       "dtype: float64"
      ]
     },
     "execution_count": 11,
     "metadata": {},
     "output_type": "execute_result"
    }
   ],
   "source": [
    "# Display missing values percentage in dataset\n",
    "transactions_null = transactions_df.isnull().mean()*100\n",
    "transactions_null"
   ]
  },
  {
   "cell_type": "code",
   "execution_count": 12,
   "id": "60681542-6c3f-4e39-9f55-c9c4a7401a9e",
   "metadata": {
    "tags": []
   },
   "outputs": [
    {
     "data": {
      "text/plain": [
       "RECEIPT_ID        24440\n",
       "PURCHASE_DATE        89\n",
       "SCAN_DATE         24440\n",
       "STORE_NAME          954\n",
       "USER_ID           17694\n",
       "BARCODE           11027\n",
       "FINAL_QUANTITY       87\n",
       "FINAL_SALE         1435\n",
       "dtype: int64"
      ]
     },
     "execution_count": 12,
     "metadata": {},
     "output_type": "execute_result"
    }
   ],
   "source": [
    "# Display unique values in columns to identify anomalies\n",
    "transactions_unique = transactions_df.nunique()\n",
    "transactions_unique"
   ]
  },
  {
   "cell_type": "code",
   "execution_count": 13,
   "id": "8691fa63-b036-458b-901d-aeef364a8bb4",
   "metadata": {
    "tags": []
   },
   "outputs": [
    {
     "data": {
      "text/plain": [
       "171"
      ]
     },
     "execution_count": 13,
     "metadata": {},
     "output_type": "execute_result"
    }
   ],
   "source": [
    "# Display duplicate entries in dataset\n",
    "transactions_duplicate = transactions_df.duplicated().sum()\n",
    "transactions_duplicate"
   ]
  },
  {
   "cell_type": "code",
   "execution_count": 29,
   "id": "2a7c021a-0839-4860-9f92-9e26ca1124d3",
   "metadata": {
    "tags": []
   },
   "outputs": [
    {
     "data": {
      "image/png": "[encoded data removed]",
      "text/plain": [
       "<Figure size 1200x600 with 1 Axes>"
      ]
     },
     "metadata": {},
     "output_type": "display_data"
    }
   ],
   "source": [
    "# Missing Values Heatmap\n",
    "plt.figure(figsize=(12, 6))\n",
    "sns.heatmap(transactions_df.isnull(), cbar=False, cmap=\"viridis\", yticklabels=False)\n",
    "plt.title(\"Missing Data in Transactions Dataset\")\n",
    "plt.show()"
   ]
  },
  {
   "cell_type": "markdown",
   "id": "8210ff07-1b82-496a-97d6-d8437f2cab9d",
   "metadata": {},
   "source": [
    "### 3. Users dataset"
   ]
  },
  {
   "cell_type": "markdown",
   "id": "3d7daa4b-3ded-4b47-ad34-590ce1d9abca",
   "metadata": {},
   "source": [
    "#### Data Quality Issue: Missing Values"
   ]
  },
  {
   "cell_type": "markdown",
   "id": "d33d2d0a-08c7-4815-a9df-87d8269bb55f",
   "metadata": {},
   "source": [
    "- LANGUAGE has the most missing values (~ 35k, ~ 30%) followed by GENDER(~ 6k, ~ 6%), STATE(~ 5k, ~ 5%) and BIRTH_DATE(~ 4k, ~ 4%)."
   ]
  },
  {
   "cell_type": "markdown",
   "id": "9adfaa4a-8684-4938-80ce-1e982d91996d",
   "metadata": {},
   "source": [
    "#### Potential Issues:"
   ]
  },
  {
   "cell_type": "markdown",
   "id": "1d558749-037a-4870-9f08-21ccb87ab9bd",
   "metadata": {
    "tags": []
   },
   "source": [
    "- LANGUAGE has high missing values, limiting demographic insights.\n",
    "- BIRTH_DATE format may need conversion.\n",
    "- Some users have missing gender and state information, limiting gender and geographic insights.\n",
    "- STATE has 52 unique values, suggesting it contains both states and other location codes. "
   ]
  },
  {
   "cell_type": "code",
   "execution_count": 15,
   "id": "fd5f4258-4367-4168-802f-ebe693a3cad1",
   "metadata": {
    "tags": []
   },
   "outputs": [
    {
     "name": "stdout",
     "output_type": "stream",
     "text": [
      "<class 'pandas.core.frame.DataFrame'>\n",
      "RangeIndex: 100000 entries, 0 to 99999\n",
      "Data columns (total 6 columns):\n",
      " #   Column        Non-Null Count   Dtype              \n",
      "---  ------        --------------   -----              \n",
      " 0   ID            100000 non-null  object             \n",
      " 1   CREATED_DATE  100000 non-null  datetime64[ns, UTC]\n",
      " 2   BIRTH_DATE    96325 non-null   datetime64[ns, UTC]\n",
      " 3   STATE         95188 non-null   object             \n",
      " 4   LANGUAGE      69492 non-null   object             \n",
      " 5   GENDER        94108 non-null   object             \n",
      "dtypes: datetime64[ns, UTC](2), object(4)\n",
      "memory usage: 4.6+ MB\n"
     ]
    },
    {
     "data": {
      "text/html": [
       "<div>\n",
       "<style scoped>\n",
       "    .dataframe tbody tr th:only-of-type {\n",
       "        vertical-align: middle;\n",
       "    }\n",
       "\n",
       "    .dataframe tbody tr th {\n",
       "        vertical-align: top;\n",
       "    }\n",
       "\n",
       "    .dataframe thead th {\n",
       "        text-align: right;\n",
       "    }\n",
       "</style>\n",
       "<table border=\"1\" class=\"dataframe\">\n",
       "  <thead>\n",
       "    <tr style=\"text-align: right;\">\n",
       "      <th></th>\n",
       "      <th>ID</th>\n",
       "      <th>CREATED_DATE</th>\n",
       "      <th>BIRTH_DATE</th>\n",
       "      <th>STATE</th>\n",
       "      <th>LANGUAGE</th>\n",
       "      <th>GENDER</th>\n",
       "    </tr>\n",
       "  </thead>\n",
       "  <tbody>\n",
       "    <tr>\n",
       "      <th>0</th>\n",
       "      <td>5ef3b4f17053ab141787697d</td>\n",
       "      <td>2020-06-24 20:17:54+00:00</td>\n",
       "      <td>2000-08-11 00:00:00+00:00</td>\n",
       "      <td>CA</td>\n",
       "      <td>es-419</td>\n",
       "      <td>female</td>\n",
       "    </tr>\n",
       "    <tr>\n",
       "      <th>1</th>\n",
       "      <td>5ff220d383fcfc12622b96bc</td>\n",
       "      <td>2021-01-03 19:53:55+00:00</td>\n",
       "      <td>2001-09-24 04:00:00+00:00</td>\n",
       "      <td>PA</td>\n",
       "      <td>en</td>\n",
       "      <td>female</td>\n",
       "    </tr>\n",
       "    <tr>\n",
       "      <th>2</th>\n",
       "      <td>6477950aa55bb77a0e27ee10</td>\n",
       "      <td>2023-05-31 18:42:18+00:00</td>\n",
       "      <td>1994-10-28 00:00:00+00:00</td>\n",
       "      <td>FL</td>\n",
       "      <td>es-419</td>\n",
       "      <td>female</td>\n",
       "    </tr>\n",
       "    <tr>\n",
       "      <th>3</th>\n",
       "      <td>658a306e99b40f103b63ccf8</td>\n",
       "      <td>2023-12-26 01:46:22+00:00</td>\n",
       "      <td>NaT</td>\n",
       "      <td>NC</td>\n",
       "      <td>en</td>\n",
       "      <td>NaN</td>\n",
       "    </tr>\n",
       "    <tr>\n",
       "      <th>4</th>\n",
       "      <td>653cf5d6a225ea102b7ecdc2</td>\n",
       "      <td>2023-10-28 11:51:50+00:00</td>\n",
       "      <td>1972-03-19 00:00:00+00:00</td>\n",
       "      <td>PA</td>\n",
       "      <td>en</td>\n",
       "      <td>female</td>\n",
       "    </tr>\n",
       "  </tbody>\n",
       "</table>\n",
       "</div>"
      ],
      "text/plain": [
       "                         ID              CREATED_DATE  \\\n",
       "0  5ef3b4f17053ab141787697d 2020-06-24 20:17:54+00:00   \n",
       "1  5ff220d383fcfc12622b96bc 2021-01-03 19:53:55+00:00   \n",
       "2  6477950aa55bb77a0e27ee10 2023-05-31 18:42:18+00:00   \n",
       "3  658a306e99b40f103b63ccf8 2023-12-26 01:46:22+00:00   \n",
       "4  653cf5d6a225ea102b7ecdc2 2023-10-28 11:51:50+00:00   \n",
       "\n",
       "                 BIRTH_DATE STATE LANGUAGE  GENDER  \n",
       "0 2000-08-11 00:00:00+00:00    CA   es-419  female  \n",
       "1 2001-09-24 04:00:00+00:00    PA       en  female  \n",
       "2 1994-10-28 00:00:00+00:00    FL   es-419  female  \n",
       "3                       NaT    NC       en     NaN  \n",
       "4 1972-03-19 00:00:00+00:00    PA       en  female  "
      ]
     },
     "execution_count": 15,
     "metadata": {},
     "output_type": "execute_result"
    }
   ],
   "source": [
    "# Display datastructure & info on dataset\n",
    "users_df.info()\n",
    "users_df.head()"
   ]
  },
  {
   "cell_type": "code",
   "execution_count": 16,
   "id": "9c10966c-e0f3-4846-b2d6-0c8a3dbd4052",
   "metadata": {
    "tags": []
   },
   "outputs": [
    {
     "data": {
      "text/plain": [
       "ID               0.000\n",
       "CREATED_DATE     0.000\n",
       "BIRTH_DATE       3.675\n",
       "STATE            4.812\n",
       "LANGUAGE        30.508\n",
       "GENDER           5.892\n",
       "dtype: float64"
      ]
     },
     "execution_count": 16,
     "metadata": {},
     "output_type": "execute_result"
    }
   ],
   "source": [
    "# Display missing values percentage in dataset\n",
    "users_null = users_df.isnull().mean()*100\n",
    "users_null"
   ]
  },
  {
   "cell_type": "code",
   "execution_count": 17,
   "id": "73690515-4edb-4523-bbb2-111d2573982c",
   "metadata": {
    "tags": []
   },
   "outputs": [
    {
     "data": {
      "text/plain": [
       "ID              100000\n",
       "CREATED_DATE     99942\n",
       "BIRTH_DATE       54721\n",
       "STATE               52\n",
       "LANGUAGE             2\n",
       "GENDER              11\n",
       "dtype: int64"
      ]
     },
     "execution_count": 17,
     "metadata": {},
     "output_type": "execute_result"
    }
   ],
   "source": [
    "# Display unique values in columns to identify anomalies\n",
    "users_unique = users_df.nunique()\n",
    "users_unique"
   ]
  },
  {
   "cell_type": "code",
   "execution_count": 18,
   "id": "82c26cb5-03d8-4255-9ba1-85aeb12d8ca6",
   "metadata": {
    "tags": []
   },
   "outputs": [
    {
     "data": {
      "text/plain": [
       "0"
      ]
     },
     "execution_count": 18,
     "metadata": {},
     "output_type": "execute_result"
    }
   ],
   "source": [
    "# Display duplicate entries in dataset\n",
    "users_duplicate = users_df.duplicated().sum()\n",
    "users_duplicate"
   ]
  },
  {
   "cell_type": "code",
   "execution_count": 28,
   "id": "38caa700-6390-4ea9-bf16-964a56ddc29a",
   "metadata": {
    "tags": []
   },
   "outputs": [
    {
     "data": {
      "image/png": "[encoded data removed]",
      "text/plain": [
       "<Figure size 1200x600 with 1 Axes>"
      ]
     },
     "metadata": {},
     "output_type": "display_data"
    }
   ],
   "source": [
    "# Missing Values Heatmap\n",
    "plt.figure(figsize=(12, 6))\n",
    "sns.heatmap(users_df.isnull(), cbar=False, cmap=\"viridis\", yticklabels=False)\n",
    "plt.title(\"Missing Data in Users Dataset\")\n",
    "plt.show()"
   ]
  },
  {
   "cell_type": "code",
   "execution_count": null,
   "id": "eef2635d-81b0-4d85-ae36-7c71db32815b",
   "metadata": {},
   "outputs": [],
   "source": []
  }
 ],
 "metadata": {
  "kernelspec": {
   "display_name": "Python (python-3.10)",
   "language": "python",
   "name": "conda-env-python-3.10-py"
  },
  "language_info": {
   "codemirror_mode": {
    "name": "ipython",
    "version": 3
   },
   "file_extension": ".py",
   "mimetype": "text/x-python",
   "name": "python",
   "nbconvert_exporter": "python",
   "pygments_lexer": "ipython3",
   "version": "3.10.15"
  }
 },
 "nbformat": 4,
 "nbformat_minor": 5
}
